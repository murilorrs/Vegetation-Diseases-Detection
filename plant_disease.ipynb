{
  "nbformat": 4,
  "nbformat_minor": 0,
  "metadata": {
    "colab": {
      "provenance": [],
      "authorship_tag": "ABX9TyPOM5eY0QYJJLut2zg8fTYY",
      "include_colab_link": true
    },
    "kernelspec": {
      "name": "python3",
      "display_name": "Python 3"
    },
    "language_info": {
      "name": "python"
    }
  },
  "cells": [
    {
      "cell_type": "markdown",
      "metadata": {
        "id": "view-in-github",
        "colab_type": "text"
      },
      "source": [
        "<a href=\"https://colab.research.google.com/github/murilorrs/Vegetation-Diseases-Detection/blob/main/plant_disease.ipynb\" target=\"_parent\"><img src=\"https://colab.research.google.com/assets/colab-badge.svg\" alt=\"Open In Colab\"/></a>"
      ]
    },
    {
      "cell_type": "code",
      "execution_count": 13,
      "metadata": {
        "id": "B1MFtXY-Se-H"
      },
      "outputs": [],
      "source": [
        "import os\n",
        "import numpy as np\n",
        "import pandas as pd\n",
        "import torch\n",
        "import matplotlib.pyplot as plt\n",
        "import torch.nn as nn\n",
        "from torch.utils.data import DataLoader\n",
        "from PIL import Image\n",
        "import torchvision.transforms as transforms\n",
        "from torchvision.utils import make_grid\n",
        "from torchvision.datasets import ImageFolder\n",
        "from torchsummary import summary"
      ]
    },
    {
      "cell_type": "code",
      "source": [
        "data_dir = \"./new-plant-diseases-dataset/New Plant Diseases Dataset(Augmented)/New Plant Diseases Dataset(Augmented)\"\n",
        "train_dir = data_dir + \"/train\"\n",
        "valid_dir = data_dir + \"/valid\"\n",
        "diseases = os.listdir(train_dir)"
      ],
      "metadata": {
        "id": "-mJrGXLyZLll"
      },
      "execution_count": 11,
      "outputs": []
    },
    {
      "cell_type": "code",
      "source": [
        "# printing the disease names\n",
        "print(diseases)"
      ],
      "metadata": {
        "colab": {
          "base_uri": "https://localhost:8080/"
        },
        "id": "zv04faNHZSRJ",
        "outputId": "9a2f2a40-92eb-4b34-be62-910fd841da7c"
      },
      "execution_count": 12,
      "outputs": [
        {
          "output_type": "stream",
          "name": "stdout",
          "text": [
            "['Corn_(maize)___Cercospora_leaf_spot Gray_leaf_spot', 'Soybean___healthy', 'Potato___Early_blight', 'Corn_(maize)___Northern_Leaf_Blight', 'Tomato___Septoria_leaf_spot', 'Apple___Apple_scab', 'Pepper,_bell___healthy', 'Pepper,_bell___Bacterial_spot', 'Tomato___Leaf_Mold', 'Squash___Powdery_mildew', 'Strawberry___Leaf_scorch', 'Grape___Leaf_blight_(Isariopsis_Leaf_Spot)', 'Apple___healthy', 'Tomato___Target_Spot', 'Apple___Cedar_apple_rust', 'Tomato___Spider_mites Two-spotted_spider_mite', 'Peach___Bacterial_spot', 'Peach___healthy', 'Potato___healthy', 'Cherry_(including_sour)___Powdery_mildew', 'Strawberry___healthy', 'Grape___Black_rot', 'Tomato___Early_blight', 'Tomato___Tomato_Yellow_Leaf_Curl_Virus', 'Potato___Late_blight', 'Tomato___Bacterial_spot', 'Orange___Haunglongbing_(Citrus_greening)', 'Apple___Black_rot', 'Grape___Esca_(Black_Measles)', 'Corn_(maize)___Common_rust_', 'Blueberry___healthy', 'Cherry_(including_sour)___healthy', 'Tomato___Tomato_mosaic_virus', 'Tomato___healthy', 'Tomato___Late_blight', 'Raspberry___healthy', 'Grape___healthy', 'Corn_(maize)___healthy']\n"
          ]
        }
      ]
    }
  ]
}